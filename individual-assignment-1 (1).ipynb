{
 "cells": [
  {
   "cell_type": "markdown",
   "metadata": {},
   "source": [
    "# Individual Assignment 1"
   ]
  },
  {
   "cell_type": "markdown",
   "metadata": {},
   "source": [
    "Name: De Meneghi, Aidan, aidan.demeneghi@ryerson.ca"
   ]
  },
  {
   "cell_type": "markdown",
   "metadata": {},
   "source": [
    "This assignment extends the in-class exercise on simple linear regression analysis. You are allowed to use all resources you can find, including lecture slides, in-class examples, previous group assignments, LinkedIn training courses, and the internet.\n",
    "\n",
    "You are **not allowed** to discuss this assignment with anyone other than the course instructor. This assignment is required to be your individual work. \n",
    "\n",
    "Completed assignment should be merged to the **main** branch in your GitHub repository using the same file names."
   ]
  },
  {
   "cell_type": "markdown",
   "metadata": {},
   "source": [
    "***\n",
    "## Data Description\n",
    "\n",
    "The data set is contained in a comma-separated value (csv) file named ```CDN_hprice.csv``` with column headers. \n",
    "\n",
    "The data is a set of quarterly observations on a housing price index and other relevant variables in Canada for 1976 through 2019.\n",
    "\n",
    "This data set is obtained from [Federal Reserve Bank of Dallas's International House Price Database](https://www.dallasfed.org/institute/houseprice).\n",
    "\n",
    "Description of the data is as follow:\n",
    "\n",
    "| Variable name | Variable description |\n",
    "| -- | ----------- |\n",
    "| Year      | Year |\n",
    "| Quarter   | Quarter |\n",
    "| RHPI      | House Price Index (real) |\n",
    "| RPDI      | Personal disposable income in thousands (real) |\n",
    "| logRHPI   | log(RHPI)   |\n",
    "| logRPDI   | log(RPDI)   |\n",
    "| UE        | Unemployment rate (in percentage points) |\n",
    "| CPI       | Consumer Price Index |\n",
    "| TB10_rt   | 10-year treasury bond rate (nominal) |\n",
    "| RTB10_rt  | 10-year Treasury Bond rate (real) |\n"
   ]
  },
  {
   "cell_type": "markdown",
   "metadata": {},
   "source": [
    "***\n",
    "## Load the required modules"
   ]
  },
  {
   "cell_type": "code",
   "execution_count": 1,
   "metadata": {},
   "outputs": [],
   "source": [
    "import numpy as np\n",
    "import pandas as pd\n",
    "import statsmodels\n",
    "import statsmodels.api as sm\n",
    "import statsmodels.formula.api as smf\n",
    "import matplotlib.pyplot"
   ]
  },
  {
   "cell_type": "markdown",
   "metadata": {},
   "source": [
    "***\n",
    "## Question 1: Import the data set\n",
    "\n",
    "#### 1.1 Load the data set into Python (10 points)"
   ]
  },
  {
   "cell_type": "code",
   "execution_count": 2,
   "metadata": {},
   "outputs": [],
   "source": [
    "hp_data = pd.read_csv(\"CDN_hprice.csv\")"
   ]
  },
  {
   "cell_type": "markdown",
   "metadata": {},
   "source": [
    "#### 1.2 Check if the data is properly imported using the ```head()``` function (10 points)"
   ]
  },
  {
   "cell_type": "code",
   "execution_count": 7,
   "metadata": {},
   "outputs": [
    {
     "data": {
      "text/html": [
       "<div>\n",
       "<style scoped>\n",
       "    .dataframe tbody tr th:only-of-type {\n",
       "        vertical-align: middle;\n",
       "    }\n",
       "\n",
       "    .dataframe tbody tr th {\n",
       "        vertical-align: top;\n",
       "    }\n",
       "\n",
       "    .dataframe thead th {\n",
       "        text-align: right;\n",
       "    }\n",
       "</style>\n",
       "<table border=\"1\" class=\"dataframe\">\n",
       "  <thead>\n",
       "    <tr style=\"text-align: right;\">\n",
       "      <th></th>\n",
       "      <th>Year</th>\n",
       "      <th>Quarter</th>\n",
       "      <th>RHPI</th>\n",
       "      <th>RPDI</th>\n",
       "      <th>RTB10_rt</th>\n",
       "      <th>CPI</th>\n",
       "      <th>TB10_rt</th>\n",
       "      <th>UE</th>\n",
       "      <th>logRHPI</th>\n",
       "      <th>logRPDI</th>\n",
       "    </tr>\n",
       "  </thead>\n",
       "  <tbody>\n",
       "    <tr>\n",
       "      <th>0</th>\n",
       "      <td>1976</td>\n",
       "      <td>Q1</td>\n",
       "      <td>58.98</td>\n",
       "      <td>74.11</td>\n",
       "      <td>0.835</td>\n",
       "      <td>24.414</td>\n",
       "      <td>9.327</td>\n",
       "      <td>6.867</td>\n",
       "      <td>4.0772</td>\n",
       "      <td>4.3056</td>\n",
       "    </tr>\n",
       "    <tr>\n",
       "      <th>1</th>\n",
       "      <td>1976</td>\n",
       "      <td>Q2</td>\n",
       "      <td>59.81</td>\n",
       "      <td>75.93</td>\n",
       "      <td>2.535</td>\n",
       "      <td>24.783</td>\n",
       "      <td>9.270</td>\n",
       "      <td>7.167</td>\n",
       "      <td>4.0912</td>\n",
       "      <td>4.3298</td>\n",
       "    </tr>\n",
       "    <tr>\n",
       "      <th>2</th>\n",
       "      <td>1976</td>\n",
       "      <td>Q3</td>\n",
       "      <td>58.82</td>\n",
       "      <td>73.23</td>\n",
       "      <td>2.885</td>\n",
       "      <td>25.125</td>\n",
       "      <td>8.937</td>\n",
       "      <td>7.367</td>\n",
       "      <td>4.0745</td>\n",
       "      <td>4.2936</td>\n",
       "    </tr>\n",
       "    <tr>\n",
       "      <th>3</th>\n",
       "      <td>1976</td>\n",
       "      <td>Q4</td>\n",
       "      <td>57.63</td>\n",
       "      <td>75.18</td>\n",
       "      <td>1.919</td>\n",
       "      <td>25.652</td>\n",
       "      <td>8.610</td>\n",
       "      <td>7.733</td>\n",
       "      <td>4.0540</td>\n",
       "      <td>4.3199</td>\n",
       "    </tr>\n",
       "    <tr>\n",
       "      <th>4</th>\n",
       "      <td>1977</td>\n",
       "      <td>Q1</td>\n",
       "      <td>55.78</td>\n",
       "      <td>74.07</td>\n",
       "      <td>0.943</td>\n",
       "      <td>26.310</td>\n",
       "      <td>8.783</td>\n",
       "      <td>7.867</td>\n",
       "      <td>4.0214</td>\n",
       "      <td>4.3050</td>\n",
       "    </tr>\n",
       "  </tbody>\n",
       "</table>\n",
       "</div>"
      ],
      "text/plain": [
       "   Year Quarter   RHPI   RPDI  RTB10_rt     CPI  TB10_rt     UE  logRHPI  \\\n",
       "0  1976      Q1  58.98  74.11     0.835  24.414    9.327  6.867   4.0772   \n",
       "1  1976      Q2  59.81  75.93     2.535  24.783    9.270  7.167   4.0912   \n",
       "2  1976      Q3  58.82  73.23     2.885  25.125    8.937  7.367   4.0745   \n",
       "3  1976      Q4  57.63  75.18     1.919  25.652    8.610  7.733   4.0540   \n",
       "4  1977      Q1  55.78  74.07     0.943  26.310    8.783  7.867   4.0214   \n",
       "\n",
       "   logRPDI  \n",
       "0   4.3056  \n",
       "1   4.3298  \n",
       "2   4.2936  \n",
       "3   4.3199  \n",
       "4   4.3050  "
      ]
     },
     "execution_count": 7,
     "metadata": {},
     "output_type": "execute_result"
    }
   ],
   "source": [
    "hp_data.head()"
   ]
  },
  {
   "cell_type": "markdown",
   "metadata": {},
   "source": [
    "***\n",
    "## Question 2: Descriptive statistics\n",
    "\n",
    "#### 2.1 Get statistical moments (10 points)"
   ]
  },
  {
   "cell_type": "code",
   "execution_count": 8,
   "metadata": {},
   "outputs": [
    {
     "data": {
      "text/html": [
       "<div>\n",
       "<style scoped>\n",
       "    .dataframe tbody tr th:only-of-type {\n",
       "        vertical-align: middle;\n",
       "    }\n",
       "\n",
       "    .dataframe tbody tr th {\n",
       "        vertical-align: top;\n",
       "    }\n",
       "\n",
       "    .dataframe thead th {\n",
       "        text-align: right;\n",
       "    }\n",
       "</style>\n",
       "<table border=\"1\" class=\"dataframe\">\n",
       "  <thead>\n",
       "    <tr style=\"text-align: right;\">\n",
       "      <th></th>\n",
       "      <th>Year</th>\n",
       "      <th>RHPI</th>\n",
       "      <th>RPDI</th>\n",
       "      <th>RTB10_rt</th>\n",
       "      <th>CPI</th>\n",
       "      <th>TB10_rt</th>\n",
       "      <th>UE</th>\n",
       "      <th>logRHPI</th>\n",
       "      <th>logRPDI</th>\n",
       "    </tr>\n",
       "  </thead>\n",
       "  <tbody>\n",
       "    <tr>\n",
       "      <th>count</th>\n",
       "      <td>176.000000</td>\n",
       "      <td>176.000000</td>\n",
       "      <td>176.000000</td>\n",
       "      <td>176.000000</td>\n",
       "      <td>176.000000</td>\n",
       "      <td>176.000000</td>\n",
       "      <td>176.000000</td>\n",
       "      <td>176.000000</td>\n",
       "      <td>176.000000</td>\n",
       "    </tr>\n",
       "    <tr>\n",
       "      <th>mean</th>\n",
       "      <td>1997.500000</td>\n",
       "      <td>95.144034</td>\n",
       "      <td>95.916136</td>\n",
       "      <td>2.975716</td>\n",
       "      <td>71.159528</td>\n",
       "      <td>6.654256</td>\n",
       "      <td>8.159466</td>\n",
       "      <td>4.485711</td>\n",
       "      <td>4.547288</td>\n",
       "    </tr>\n",
       "    <tr>\n",
       "      <th>std</th>\n",
       "      <td>12.734655</td>\n",
       "      <td>38.013013</td>\n",
       "      <td>17.724510</td>\n",
       "      <td>2.400500</td>\n",
       "      <td>23.105191</td>\n",
       "      <td>3.754641</td>\n",
       "      <td>1.694782</td>\n",
       "      <td>0.363170</td>\n",
       "      <td>0.178373</td>\n",
       "    </tr>\n",
       "    <tr>\n",
       "      <th>min</th>\n",
       "      <td>1976.000000</td>\n",
       "      <td>54.450000</td>\n",
       "      <td>73.230000</td>\n",
       "      <td>-0.596000</td>\n",
       "      <td>24.414000</td>\n",
       "      <td>1.060000</td>\n",
       "      <td>5.567000</td>\n",
       "      <td>3.997300</td>\n",
       "      <td>4.293600</td>\n",
       "    </tr>\n",
       "    <tr>\n",
       "      <th>25%</th>\n",
       "      <td>1986.750000</td>\n",
       "      <td>69.810000</td>\n",
       "      <td>81.595000</td>\n",
       "      <td>0.856750</td>\n",
       "      <td>53.720000</td>\n",
       "      <td>3.454500</td>\n",
       "      <td>7.000000</td>\n",
       "      <td>4.245750</td>\n",
       "      <td>4.401800</td>\n",
       "    </tr>\n",
       "    <tr>\n",
       "      <th>50%</th>\n",
       "      <td>1997.500000</td>\n",
       "      <td>75.670000</td>\n",
       "      <td>88.965000</td>\n",
       "      <td>2.634500</td>\n",
       "      <td>71.991000</td>\n",
       "      <td>5.978500</td>\n",
       "      <td>7.667000</td>\n",
       "      <td>4.326400</td>\n",
       "      <td>4.488250</td>\n",
       "    </tr>\n",
       "    <tr>\n",
       "      <th>75%</th>\n",
       "      <td>2008.250000</td>\n",
       "      <td>124.450000</td>\n",
       "      <td>111.535000</td>\n",
       "      <td>4.636000</td>\n",
       "      <td>90.545250</td>\n",
       "      <td>9.500750</td>\n",
       "      <td>9.333250</td>\n",
       "      <td>4.823875</td>\n",
       "      <td>4.714325</td>\n",
       "    </tr>\n",
       "    <tr>\n",
       "      <th>max</th>\n",
       "      <td>2019.000000</td>\n",
       "      <td>191.800000</td>\n",
       "      <td>133.570000</td>\n",
       "      <td>9.135000</td>\n",
       "      <td>108.191000</td>\n",
       "      <td>16.447000</td>\n",
       "      <td>12.933000</td>\n",
       "      <td>5.256500</td>\n",
       "      <td>4.894600</td>\n",
       "    </tr>\n",
       "  </tbody>\n",
       "</table>\n",
       "</div>"
      ],
      "text/plain": [
       "              Year        RHPI        RPDI    RTB10_rt         CPI  \\\n",
       "count   176.000000  176.000000  176.000000  176.000000  176.000000   \n",
       "mean   1997.500000   95.144034   95.916136    2.975716   71.159528   \n",
       "std      12.734655   38.013013   17.724510    2.400500   23.105191   \n",
       "min    1976.000000   54.450000   73.230000   -0.596000   24.414000   \n",
       "25%    1986.750000   69.810000   81.595000    0.856750   53.720000   \n",
       "50%    1997.500000   75.670000   88.965000    2.634500   71.991000   \n",
       "75%    2008.250000  124.450000  111.535000    4.636000   90.545250   \n",
       "max    2019.000000  191.800000  133.570000    9.135000  108.191000   \n",
       "\n",
       "          TB10_rt          UE     logRHPI     logRPDI  \n",
       "count  176.000000  176.000000  176.000000  176.000000  \n",
       "mean     6.654256    8.159466    4.485711    4.547288  \n",
       "std      3.754641    1.694782    0.363170    0.178373  \n",
       "min      1.060000    5.567000    3.997300    4.293600  \n",
       "25%      3.454500    7.000000    4.245750    4.401800  \n",
       "50%      5.978500    7.667000    4.326400    4.488250  \n",
       "75%      9.500750    9.333250    4.823875    4.714325  \n",
       "max     16.447000   12.933000    5.256500    4.894600  "
      ]
     },
     "execution_count": 8,
     "metadata": {},
     "output_type": "execute_result"
    }
   ],
   "source": [
    "hp_data.describe()"
   ]
  },
  {
   "cell_type": "markdown",
   "metadata": {},
   "source": [
    "#### 2.2 What is the sample mean for the unemployment rate and the real personal disposable income? (5 points)"
   ]
  },
  {
   "cell_type": "markdown",
   "metadata": {},
   "source": [
    "8.16% and 95.92%"
   ]
  },
  {
   "cell_type": "markdown",
   "metadata": {},
   "source": [
    "#### 2.3 Create a scatter plot to visualize the relationship between the real personal disposable income (RPDI) and the real house price index (RHPI) (10 points)\n",
    "You should plot RPDI on the x-axis and RHPI on the y-axis"
   ]
  },
  {
   "cell_type": "code",
   "execution_count": 13,
   "metadata": {},
   "outputs": [
    {
     "data": {
      "text/plain": [
       "<AxesSubplot:xlabel='RPDI', ylabel='RHPI'>"
      ]
     },
     "execution_count": 13,
     "metadata": {},
     "output_type": "execute_result"
    },
    {
     "data": {
      "image/png": "[encoded data removed]",
      "text/plain": [
       "<Figure size 432x288 with 1 Axes>"
      ]
     },
     "metadata": {
      "needs_background": "light"
     },
     "output_type": "display_data"
    }
   ],
   "source": [
    "hp_data.plot.scatter('RPDI','RHPI')"
   ]
  },
  {
   "cell_type": "markdown",
   "metadata": {},
   "source": [
    "#### 2.4 Judging from the scatterplot, what is the correlation between RHPI and RPDI? (5 point)"
   ]
  },
  {
   "cell_type": "markdown",
   "metadata": {},
   "source": [
    "Positive"
   ]
  },
  {
   "cell_type": "markdown",
   "metadata": {},
   "source": [
    "***\n",
    "## Question 3: Simple Linear Regression Model"
   ]
  },
  {
   "cell_type": "markdown",
   "metadata": {},
   "source": [
    "Consider a house price model with the real personal disposable income as the explanatory variable:\n",
    "$$\\textit{RHPI} = \\beta_0 + \\beta_1 \\text{RPDI} + u,$$\n",
    "where $RHPI$ is the real house price index, $RPDI$ is the real personal disposable income, and $u$ is the error term."
   ]
  },
  {
   "cell_type": "markdown",
   "metadata": {},
   "source": [
    "#### 3.1 Estimate the model (10 points)"
   ]
  },
  {
   "cell_type": "code",
   "execution_count": 10,
   "metadata": {},
   "outputs": [],
   "source": [
    "model = smf.ols(formula = 'RHPI ~ 1 + RPDI', data = hp_data).fit()\n"
   ]
  },
  {
   "cell_type": "markdown",
   "metadata": {},
   "source": [
    "#### 3.2 Get the estimation results (10 points)"
   ]
  },
  {
   "cell_type": "code",
   "execution_count": 12,
   "metadata": {},
   "outputs": [
    {
     "data": {
      "text/html": [
       "<table class=\"simpletable\">\n",
       "<caption>OLS Regression Results</caption>\n",
       "<tr>\n",
       "  <th>Dep. Variable:</th>          <td>RHPI</td>       <th>  R-squared:         </th> <td>   0.942</td> \n",
       "</tr>\n",
       "<tr>\n",
       "  <th>Model:</th>                   <td>OLS</td>       <th>  Adj. R-squared:    </th> <td>   0.942</td> \n",
       "</tr>\n",
       "<tr>\n",
       "  <th>Method:</th>             <td>Least Squares</td>  <th>  F-statistic:       </th> <td>   2833.</td> \n",
       "</tr>\n",
       "<tr>\n",
       "  <th>Date:</th>             <td>Tue, 23 Feb 2021</td> <th>  Prob (F-statistic):</th> <td>1.34e-109</td>\n",
       "</tr>\n",
       "<tr>\n",
       "  <th>Time:</th>                 <td>17:58:13</td>     <th>  Log-Likelihood:    </th> <td> -638.74</td> \n",
       "</tr>\n",
       "<tr>\n",
       "  <th>No. Observations:</th>      <td>   176</td>      <th>  AIC:               </th> <td>   1281.</td> \n",
       "</tr>\n",
       "<tr>\n",
       "  <th>Df Residuals:</th>          <td>   174</td>      <th>  BIC:               </th> <td>   1288.</td> \n",
       "</tr>\n",
       "<tr>\n",
       "  <th>Df Model:</th>              <td>     1</td>      <th>                     </th>     <td> </td>    \n",
       "</tr>\n",
       "<tr>\n",
       "  <th>Covariance Type:</th>      <td>nonrobust</td>    <th>                     </th>     <td> </td>    \n",
       "</tr>\n",
       "</table>\n",
       "<table class=\"simpletable\">\n",
       "<tr>\n",
       "      <td></td>         <th>coef</th>     <th>std err</th>      <th>t</th>      <th>P>|t|</th>  <th>[0.025</th>    <th>0.975]</th>  \n",
       "</tr>\n",
       "<tr>\n",
       "  <th>Intercept</th> <td> -104.5226</td> <td>    3.815</td> <td>  -27.401</td> <td> 0.000</td> <td> -112.051</td> <td>  -96.994</td>\n",
       "</tr>\n",
       "<tr>\n",
       "  <th>RPDI</th>      <td>    2.0817</td> <td>    0.039</td> <td>   53.224</td> <td> 0.000</td> <td>    2.004</td> <td>    2.159</td>\n",
       "</tr>\n",
       "</table>\n",
       "<table class=\"simpletable\">\n",
       "<tr>\n",
       "  <th>Omnibus:</th>       <td> 5.047</td> <th>  Durbin-Watson:     </th> <td>   0.121</td>\n",
       "</tr>\n",
       "<tr>\n",
       "  <th>Prob(Omnibus):</th> <td> 0.080</td> <th>  Jarque-Bera (JB):  </th> <td>   4.605</td>\n",
       "</tr>\n",
       "<tr>\n",
       "  <th>Skew:</th>          <td> 0.358</td> <th>  Prob(JB):          </th> <td>   0.100</td>\n",
       "</tr>\n",
       "<tr>\n",
       "  <th>Kurtosis:</th>      <td> 3.339</td> <th>  Cond. No.          </th> <td>    538.</td>\n",
       "</tr>\n",
       "</table><br/><br/>Notes:<br/>[1] Standard Errors assume that the covariance matrix of the errors is correctly specified."
      ],
      "text/plain": [
       "<class 'statsmodels.iolib.summary.Summary'>\n",
       "\"\"\"\n",
       "                            OLS Regression Results                            \n",
       "==============================================================================\n",
       "Dep. Variable:                   RHPI   R-squared:                       0.942\n",
       "Model:                            OLS   Adj. R-squared:                  0.942\n",
       "Method:                 Least Squares   F-statistic:                     2833.\n",
       "Date:                Tue, 23 Feb 2021   Prob (F-statistic):          1.34e-109\n",
       "Time:                        17:58:13   Log-Likelihood:                -638.74\n",
       "No. Observations:                 176   AIC:                             1281.\n",
       "Df Residuals:                     174   BIC:                             1288.\n",
       "Df Model:                           1                                         \n",
       "Covariance Type:            nonrobust                                         \n",
       "==============================================================================\n",
       "                 coef    std err          t      P>|t|      [0.025      0.975]\n",
       "------------------------------------------------------------------------------\n",
       "Intercept   -104.5226      3.815    -27.401      0.000    -112.051     -96.994\n",
       "RPDI           2.0817      0.039     53.224      0.000       2.004       2.159\n",
       "==============================================================================\n",
       "Omnibus:                        5.047   Durbin-Watson:                   0.121\n",
       "Prob(Omnibus):                  0.080   Jarque-Bera (JB):                4.605\n",
       "Skew:                           0.358   Prob(JB):                        0.100\n",
       "Kurtosis:                       3.339   Cond. No.                         538.\n",
       "==============================================================================\n",
       "\n",
       "Notes:\n",
       "[1] Standard Errors assume that the covariance matrix of the errors is correctly specified.\n",
       "\"\"\""
      ]
     },
     "execution_count": 12,
     "metadata": {},
     "output_type": "execute_result"
    }
   ],
   "source": [
    "model.summary()"
   ]
  },
  {
   "cell_type": "markdown",
   "metadata": {},
   "source": [
    "#### 3.3 What percentage of the variation in RHPI is explained by RPDI? (10 points)"
   ]
  },
  {
   "cell_type": "markdown",
   "metadata": {},
   "source": [
    "94.2%"
   ]
  },
  {
   "cell_type": "markdown",
   "metadata": {},
   "source": [
    "#### 3.4 How would you interpret $\\beta_1$? Be careful on the unit of measurement for the $x$ and $y$ variables. (10 points)"
   ]
  },
  {
   "cell_type": "markdown",
   "metadata": {},
   "source": [
    "If your RPDI increases by 1 unit, the RHFI decreases by 2.0817 thousands."
   ]
  },
  {
   "cell_type": "markdown",
   "metadata": {},
   "source": [
    "#### 3.5 It is not meaningful to discuss the relationship between RHPI and RPDI, because RHPI is just an index value. (10 points)\n",
    "Suggest how you can rewrite the model to estimate the relationship between the real house price *growth* and the level of real personal dispoable income."
   ]
  },
  {
   "cell_type": "markdown",
   "metadata": {},
   "source": [
    "By subtracting the base value from the index value, it will then also have a 0 base value like thr growth rate. It produces a more accurate model of house price growth and RPDI."
   ]
  },
  {
   "cell_type": "markdown",
   "metadata": {},
   "source": [
    "***\n",
    "## References\n",
    "- Jeffrey M. Wooldridge (2012). \"Introductory Econometrics: A Modern Approach, 5e\" Chapter 2.\n",
    "    \n",
    "- Seabold, Skipper, and Josef Perktold (2010). \"[statsmodels: Econometric and statistical modeling with python](https://www.statsmodels.org/stable/examples/notebooks/generated/ols.html).\" Proceedings of the 9th Python in Science Conference."
   ]
  }
 ],
 "metadata": {
  "kernelspec": {
   "display_name": "Python 3",
   "language": "python",
   "name": "python3"
  },
  "language_info": {
   "codemirror_mode": {
    "name": "ipython",
    "version": 3
   },
   "file_extension": ".py",
   "mimetype": "text/x-python",
   "name": "python",
   "nbconvert_exporter": "python",
   "pygments_lexer": "ipython3",
   "version": "3.8.5"
  }
 },
 "nbformat": 4,
 "nbformat_minor": 4
}
